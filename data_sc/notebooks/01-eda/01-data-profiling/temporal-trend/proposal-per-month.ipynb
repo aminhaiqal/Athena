{
 "cells": [
  {
   "cell_type": "code",
   "execution_count": 21,
   "id": "d0838550",
   "metadata": {},
   "outputs": [],
   "source": [
    "import sys\n",
    "import os\n",
    "\n",
    "sys.path.append(os.path.abspath(os.path.join(os.getcwd(), '../../../../..')))"
   ]
  },
  {
   "cell_type": "code",
   "execution_count": 22,
   "id": "9c4b78bc",
   "metadata": {},
   "outputs": [],
   "source": [
    "from data_sc.src.utils.db import get_db_connection\n",
    "\n",
    "# Call the function\n",
    "conn = get_db_connection()"
   ]
  },
  {
   "cell_type": "code",
   "execution_count": 23,
   "id": "ca051718",
   "metadata": {},
   "outputs": [],
   "source": [
    "import pandas as pd\n",
    "\n",
    "# Load table into DataFrame\n",
    "query = \"SELECT * FROM legislative_proposal\"\n",
    "df = pd.read_sql(query, conn)"
   ]
  },
  {
   "cell_type": "markdown",
   "id": "c44b09cb",
   "metadata": {},
   "source": [
    "#### Step 1: Define the Specific Year to Analyze\n",
    "\n",
    "In this step, we define the year we want to analyze. For this example, we will choose a single year, but you can adjust this to a range if needed.\n"
   ]
  },
  {
   "cell_type": "code",
   "execution_count": 24,
   "id": "9807499b",
   "metadata": {},
   "outputs": [],
   "source": [
    "year_to_analyze = 2024"
   ]
  },
  {
   "cell_type": "code",
   "execution_count": 25,
   "id": "9c66e462",
   "metadata": {},
   "outputs": [],
   "source": [
    "# Filter data for the selected year\n",
    "df_filtered = df[df['year_issue'] == year_to_analyze]\n",
    "\n",
    "# If you want to analyze a range of years, use the following:\n",
    "# start_year = 2015\n",
    "# end_year = 2020\n",
    "# df_filtered = df[(df['year_issue'] >= start_year) & (df['year_issue'] <= end_year)]\n"
   ]
  },
  {
   "cell_type": "markdown",
   "id": "639c7ade",
   "metadata": {},
   "source": [
    "#### Step 3: Ensure 'latest_procedure_date' is in DateTime Format\n",
    "\n",
    "Convert the `latest_procedure_date` to a proper datetime format to make sure we can perform time-based grouping.\n"
   ]
  },
  {
   "cell_type": "code",
   "execution_count": 32,
   "id": "d4720314",
   "metadata": {},
   "outputs": [],
   "source": [
    "# Ensure 'latest_procedure_date' is in datetime format\n",
    "df_filtered.loc[:, 'latest_procedure_date'] = pd.to_datetime(df_filtered['latest_procedure_date'], errors='coerce')\n"
   ]
  },
  {
   "cell_type": "markdown",
   "id": "87a8ed62",
   "metadata": {},
   "source": [
    "#### Step 4: Extract Month and Year from 'latest_procedure_date'\n",
    "\n",
    "To analyze proposals by month, we extract the month and year as a period (e.g., '2022-03' for March 2022).\n"
   ]
  },
  {
   "cell_type": "code",
   "execution_count": 33,
   "id": "5322ac1e",
   "metadata": {},
   "outputs": [
    {
     "ename": "AttributeError",
     "evalue": "Can only use .dt accessor with datetimelike values",
     "output_type": "error",
     "traceback": [
      "\u001b[31m---------------------------------------------------------------------------\u001b[39m",
      "\u001b[31mAttributeError\u001b[39m                            Traceback (most recent call last)",
      "\u001b[36mCell\u001b[39m\u001b[36m \u001b[39m\u001b[32mIn[33]\u001b[39m\u001b[32m, line 2\u001b[39m\n\u001b[32m      1\u001b[39m \u001b[38;5;66;03m# Extract Month and Year from 'latest_procedure_date'\u001b[39;00m\n\u001b[32m----> \u001b[39m\u001b[32m2\u001b[39m df_filtered.loc[:, \u001b[33m'\u001b[39m\u001b[33mmonth_year\u001b[39m\u001b[33m'\u001b[39m] = \u001b[43mdf_filtered\u001b[49m\u001b[43m[\u001b[49m\u001b[33;43m'\u001b[39;49m\u001b[33;43mlatest_procedure_date\u001b[39;49m\u001b[33;43m'\u001b[39;49m\u001b[43m]\u001b[49m\u001b[43m.\u001b[49m\u001b[43mdt\u001b[49m.to_period(\u001b[33m'\u001b[39m\u001b[33mM\u001b[39m\u001b[33m'\u001b[39m)\n",
      "\u001b[36mFile \u001b[39m\u001b[32mc:\\Users\\User\\Documents\\Github\\Athena\\.venv\\Lib\\site-packages\\pandas\\core\\generic.py:6299\u001b[39m, in \u001b[36mNDFrame.__getattr__\u001b[39m\u001b[34m(self, name)\u001b[39m\n\u001b[32m   6292\u001b[39m \u001b[38;5;28;01mif\u001b[39;00m (\n\u001b[32m   6293\u001b[39m     name \u001b[38;5;129;01mnot\u001b[39;00m \u001b[38;5;129;01min\u001b[39;00m \u001b[38;5;28mself\u001b[39m._internal_names_set\n\u001b[32m   6294\u001b[39m     \u001b[38;5;129;01mand\u001b[39;00m name \u001b[38;5;129;01mnot\u001b[39;00m \u001b[38;5;129;01min\u001b[39;00m \u001b[38;5;28mself\u001b[39m._metadata\n\u001b[32m   6295\u001b[39m     \u001b[38;5;129;01mand\u001b[39;00m name \u001b[38;5;129;01mnot\u001b[39;00m \u001b[38;5;129;01min\u001b[39;00m \u001b[38;5;28mself\u001b[39m._accessors\n\u001b[32m   6296\u001b[39m     \u001b[38;5;129;01mand\u001b[39;00m \u001b[38;5;28mself\u001b[39m._info_axis._can_hold_identifiers_and_holds_name(name)\n\u001b[32m   6297\u001b[39m ):\n\u001b[32m   6298\u001b[39m     \u001b[38;5;28;01mreturn\u001b[39;00m \u001b[38;5;28mself\u001b[39m[name]\n\u001b[32m-> \u001b[39m\u001b[32m6299\u001b[39m \u001b[38;5;28;01mreturn\u001b[39;00m \u001b[38;5;28;43mobject\u001b[39;49m\u001b[43m.\u001b[49m\u001b[34;43m__getattribute__\u001b[39;49m\u001b[43m(\u001b[49m\u001b[38;5;28;43mself\u001b[39;49m\u001b[43m,\u001b[49m\u001b[43m \u001b[49m\u001b[43mname\u001b[49m\u001b[43m)\u001b[49m\n",
      "\u001b[36mFile \u001b[39m\u001b[32mc:\\Users\\User\\Documents\\Github\\Athena\\.venv\\Lib\\site-packages\\pandas\\core\\accessor.py:224\u001b[39m, in \u001b[36mCachedAccessor.__get__\u001b[39m\u001b[34m(self, obj, cls)\u001b[39m\n\u001b[32m    221\u001b[39m \u001b[38;5;28;01mif\u001b[39;00m obj \u001b[38;5;129;01mis\u001b[39;00m \u001b[38;5;28;01mNone\u001b[39;00m:\n\u001b[32m    222\u001b[39m     \u001b[38;5;66;03m# we're accessing the attribute of the class, i.e., Dataset.geo\u001b[39;00m\n\u001b[32m    223\u001b[39m     \u001b[38;5;28;01mreturn\u001b[39;00m \u001b[38;5;28mself\u001b[39m._accessor\n\u001b[32m--> \u001b[39m\u001b[32m224\u001b[39m accessor_obj = \u001b[38;5;28;43mself\u001b[39;49m\u001b[43m.\u001b[49m\u001b[43m_accessor\u001b[49m\u001b[43m(\u001b[49m\u001b[43mobj\u001b[49m\u001b[43m)\u001b[49m\n\u001b[32m    225\u001b[39m \u001b[38;5;66;03m# Replace the property with the accessor object. Inspired by:\u001b[39;00m\n\u001b[32m    226\u001b[39m \u001b[38;5;66;03m# https://www.pydanny.com/cached-property.html\u001b[39;00m\n\u001b[32m    227\u001b[39m \u001b[38;5;66;03m# We need to use object.__setattr__ because we overwrite __setattr__ on\u001b[39;00m\n\u001b[32m    228\u001b[39m \u001b[38;5;66;03m# NDFrame\u001b[39;00m\n\u001b[32m    229\u001b[39m \u001b[38;5;28mobject\u001b[39m.\u001b[34m__setattr__\u001b[39m(obj, \u001b[38;5;28mself\u001b[39m._name, accessor_obj)\n",
      "\u001b[36mFile \u001b[39m\u001b[32mc:\\Users\\User\\Documents\\Github\\Athena\\.venv\\Lib\\site-packages\\pandas\\core\\indexes\\accessors.py:643\u001b[39m, in \u001b[36mCombinedDatetimelikeProperties.__new__\u001b[39m\u001b[34m(cls, data)\u001b[39m\n\u001b[32m    640\u001b[39m \u001b[38;5;28;01melif\u001b[39;00m \u001b[38;5;28misinstance\u001b[39m(data.dtype, PeriodDtype):\n\u001b[32m    641\u001b[39m     \u001b[38;5;28;01mreturn\u001b[39;00m PeriodProperties(data, orig)\n\u001b[32m--> \u001b[39m\u001b[32m643\u001b[39m \u001b[38;5;28;01mraise\u001b[39;00m \u001b[38;5;167;01mAttributeError\u001b[39;00m(\u001b[33m\"\u001b[39m\u001b[33mCan only use .dt accessor with datetimelike values\u001b[39m\u001b[33m\"\u001b[39m)\n",
      "\u001b[31mAttributeError\u001b[39m: Can only use .dt accessor with datetimelike values"
     ]
    }
   ],
   "source": [
    "# Extract Month and Year from 'latest_procedure_date'\n",
    "df_filtered.loc[:, 'month_year'] = df_filtered['latest_procedure_date'].dt.to_period('M')"
   ]
  },
  {
   "cell_type": "markdown",
   "id": "b12aa155",
   "metadata": {},
   "source": [
    "#### Step 5: Group by 'Month-Year' and Count the Number of Proposals\n",
    "\n",
    "This step groups the data by month-year and counts how many proposals were made each month.\n"
   ]
  },
  {
   "cell_type": "code",
   "execution_count": null,
   "id": "cd68f4fc",
   "metadata": {},
   "outputs": [],
   "source": [
    "# Group by 'month_year' and count the number of proposals\n",
    "monthly_proposals = df_filtered.groupby('month_year').size().reset_index(name='proposal_count')\n"
   ]
  },
  {
   "cell_type": "markdown",
   "id": "6edb1879",
   "metadata": {},
   "source": [
    "#### Step 6: Visualize the Number of Proposals per Month\n",
    "\n",
    "We will use a bar plot to visualize the count of legislative proposals per month for the chosen year.\n"
   ]
  },
  {
   "cell_type": "code",
   "execution_count": null,
   "id": "e942dd66",
   "metadata": {},
   "outputs": [
    {
     "data": {
      "image/png": "[encoded data removed]",
      "text/plain": [
       "<Figure size 1400x600 with 1 Axes>"
      ]
     },
     "metadata": {},
     "output_type": "display_data"
    }
   ],
   "source": [
    "import matplotlib.pyplot as plt\n",
    "import seaborn as sns\n",
    "\n",
    "# Visualize the data using a bar plot\n",
    "plt.figure(figsize=(14, 6))\n",
    "\n",
    "# If you don't want to color by any specific variable, remove 'hue'\n",
    "sns.barplot(x='month_year', y='proposal_count', data=monthly_proposals)\n",
    "\n",
    "# Add titles and labels\n",
    "plt.title(f\"Number of Legislative Proposals per Month in {year_to_analyze}\")\n",
    "plt.xlabel(\"Month-Year\")\n",
    "plt.ylabel(\"Number of Proposals\")\n",
    "plt.xticks(rotation=45)  # Rotate x-axis labels for better readability\n",
    "plt.grid(axis='y', linestyle='--', alpha=0.5)\n",
    "plt.tight_layout()\n",
    "\n",
    "# Show the plot\n",
    "plt.show()\n"
   ]
  },
  {
   "cell_type": "code",
   "execution_count": null,
   "id": "03d915a7",
   "metadata": {},
   "outputs": [
    {
     "data": {
      "text/html": [
       "<div>\n",
       "<style scoped>\n",
       "    .dataframe tbody tr th:only-of-type {\n",
       "        vertical-align: middle;\n",
       "    }\n",
       "\n",
       "    .dataframe tbody tr th {\n",
       "        vertical-align: top;\n",
       "    }\n",
       "\n",
       "    .dataframe thead th {\n",
       "        text-align: right;\n",
       "    }\n",
       "</style>\n",
       "<table border=\"1\" class=\"dataframe\">\n",
       "  <thead>\n",
       "    <tr style=\"text-align: right;\">\n",
       "      <th></th>\n",
       "      <th>month_year</th>\n",
       "      <th>proposal_count</th>\n",
       "    </tr>\n",
       "  </thead>\n",
       "  <tbody>\n",
       "    <tr>\n",
       "      <th>0</th>\n",
       "      <td>2025-02</td>\n",
       "      <td>9</td>\n",
       "    </tr>\n",
       "    <tr>\n",
       "      <th>1</th>\n",
       "      <td>2025-03</td>\n",
       "      <td>42</td>\n",
       "    </tr>\n",
       "    <tr>\n",
       "      <th>2</th>\n",
       "      <td>2025-04</td>\n",
       "      <td>128</td>\n",
       "    </tr>\n",
       "  </tbody>\n",
       "</table>\n",
       "</div>"
      ],
      "text/plain": [
       "  month_year  proposal_count\n",
       "0    2025-02               9\n",
       "1    2025-03              42\n",
       "2    2025-04             128"
      ]
     },
     "execution_count": 10,
     "metadata": {},
     "output_type": "execute_result"
    }
   ],
   "source": [
    "# Display the monthly proposals summary\n",
    "monthly_proposals"
   ]
  }
 ],
 "metadata": {
  "kernelspec": {
   "display_name": ".venv",
   "language": "python",
   "name": "python3"
  },
  "language_info": {
   "codemirror_mode": {
    "name": "ipython",
    "version": 3
   },
   "file_extension": ".py",
   "mimetype": "text/x-python",
   "name": "python",
   "nbconvert_exporter": "python",
   "pygments_lexer": "ipython3",
   "version": "3.11.5"
  }
 },
 "nbformat": 4,
 "nbformat_minor": 5
}
