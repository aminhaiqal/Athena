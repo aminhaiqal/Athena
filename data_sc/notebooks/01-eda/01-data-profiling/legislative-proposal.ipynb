{
 "cells": [
  {
   "cell_type": "markdown",
   "id": "b2e2d9f8",
   "metadata": {},
   "source": [
    "## Data Profiling"
   ]
  },
  {
   "cell_type": "code",
   "execution_count": 1,
   "id": "f2616458",
   "metadata": {},
   "outputs": [],
   "source": [
    "import sys\n",
    "import os\n",
    "\n",
    "sys.path.append(os.path.abspath(os.path.join(os.getcwd(), '../../../..')))"
   ]
  },
  {
   "cell_type": "code",
   "execution_count": 2,
   "id": "a85d1a76",
   "metadata": {},
   "outputs": [
    {
     "name": "stdout",
     "output_type": "stream",
     "text": [
      "Database connection established successfully (using .env).\n"
     ]
    }
   ],
   "source": [
    "from data_sc.src.utils.db import get_db_connection\n",
    "\n",
    "# Call the function\n",
    "conn = get_db_connection()"
   ]
  },
  {
   "cell_type": "markdown",
   "id": "ee9ae05e",
   "metadata": {},
   "source": [
    "### 1. Load Data from Database\n",
    "\n",
    "We use raw SQL to query the `legislative_proposal` table and load it into a DataFrame."
   ]
  },
  {
   "cell_type": "code",
   "execution_count": null,
   "id": "e2a9b9c0",
   "metadata": {},
   "outputs": [],
   "source": [
    "import pandas as pd\n",
    "\n",
    "# Load table into DataFrame\n",
    "query = \"SELECT * FROM legislative_proposal\"\n",
    "df = pd.read_sql(query, conn)\n",
    "\n",
    "df.head()"
   ]
  },
  {
   "cell_type": "markdown",
   "id": "dcda2766",
   "metadata": {},
   "source": [
    "### 2. Missing Values Overview\n",
    "\n",
    "Check which fields have missing/null values to assess data completeness.\n"
   ]
  },
  {
   "cell_type": "code",
   "execution_count": 18,
   "id": "541aef0d",
   "metadata": {},
   "outputs": [
    {
     "data": {
      "text/html": [
       "<div>\n",
       "<style scoped>\n",
       "    .dataframe tbody tr th:only-of-type {\n",
       "        vertical-align: middle;\n",
       "    }\n",
       "\n",
       "    .dataframe tbody tr th {\n",
       "        vertical-align: top;\n",
       "    }\n",
       "\n",
       "    .dataframe thead th {\n",
       "        text-align: right;\n",
       "    }\n",
       "</style>\n",
       "<table border=\"1\" class=\"dataframe\">\n",
       "  <thead>\n",
       "    <tr style=\"text-align: right;\">\n",
       "      <th></th>\n",
       "      <th>missing_count</th>\n",
       "    </tr>\n",
       "  </thead>\n",
       "  <tbody>\n",
       "    <tr>\n",
       "      <th>first_senate_registration_number</th>\n",
       "      <td>7632</td>\n",
       "    </tr>\n",
       "    <tr>\n",
       "      <th>matching_title</th>\n",
       "      <td>7616</td>\n",
       "    </tr>\n",
       "    <tr>\n",
       "      <th>status_senate</th>\n",
       "      <td>6080</td>\n",
       "    </tr>\n",
       "    <tr>\n",
       "      <th>status_cdep</th>\n",
       "      <td>5436</td>\n",
       "    </tr>\n",
       "    <tr>\n",
       "      <th>deadline</th>\n",
       "      <td>5280</td>\n",
       "    </tr>\n",
       "    <tr>\n",
       "      <th>opinion</th>\n",
       "      <td>4932</td>\n",
       "    </tr>\n",
       "    <tr>\n",
       "      <th>government_registration_number</th>\n",
       "      <td>346</td>\n",
       "    </tr>\n",
       "    <tr>\n",
       "      <th>idp</th>\n",
       "      <td>285</td>\n",
       "    </tr>\n",
       "    <tr>\n",
       "      <th>law_character</th>\n",
       "      <td>24</td>\n",
       "    </tr>\n",
       "    <tr>\n",
       "      <th>senate_registration_number</th>\n",
       "      <td>17</td>\n",
       "    </tr>\n",
       "    <tr>\n",
       "      <th>year_issue</th>\n",
       "      <td>12</td>\n",
       "    </tr>\n",
       "    <tr>\n",
       "      <th>status</th>\n",
       "      <td>2</td>\n",
       "    </tr>\n",
       "    <tr>\n",
       "      <th>cdep_registration_number</th>\n",
       "      <td>0</td>\n",
       "    </tr>\n",
       "    <tr>\n",
       "      <th>id</th>\n",
       "      <td>0</td>\n",
       "    </tr>\n",
       "    <tr>\n",
       "      <th>title</th>\n",
       "      <td>0</td>\n",
       "    </tr>\n",
       "    <tr>\n",
       "      <th>active</th>\n",
       "      <td>0</td>\n",
       "    </tr>\n",
       "    <tr>\n",
       "      <th>urgent_procedure</th>\n",
       "      <td>0</td>\n",
       "    </tr>\n",
       "    <tr>\n",
       "      <th>initiative</th>\n",
       "      <td>0</td>\n",
       "    </tr>\n",
       "    <tr>\n",
       "      <th>first_chamber</th>\n",
       "      <td>0</td>\n",
       "    </tr>\n",
       "    <tr>\n",
       "      <th>published</th>\n",
       "      <td>0</td>\n",
       "    </tr>\n",
       "    <tr>\n",
       "      <th>updated_at</th>\n",
       "      <td>0</td>\n",
       "    </tr>\n",
       "    <tr>\n",
       "      <th>senate_active</th>\n",
       "      <td>0</td>\n",
       "    </tr>\n",
       "    <tr>\n",
       "      <th>created_at</th>\n",
       "      <td>0</td>\n",
       "    </tr>\n",
       "    <tr>\n",
       "      <th>cdep_active</th>\n",
       "      <td>0</td>\n",
       "    </tr>\n",
       "    <tr>\n",
       "      <th>promulgare</th>\n",
       "      <td>0</td>\n",
       "    </tr>\n",
       "    <tr>\n",
       "      <th>normalized_title</th>\n",
       "      <td>0</td>\n",
       "    </tr>\n",
       "    <tr>\n",
       "      <th>latest_procedure_date</th>\n",
       "      <td>0</td>\n",
       "    </tr>\n",
       "    <tr>\n",
       "      <th>search_vector</th>\n",
       "      <td>0</td>\n",
       "    </tr>\n",
       "    <tr>\n",
       "      <th>procedure_year</th>\n",
       "      <td>0</td>\n",
       "    </tr>\n",
       "    <tr>\n",
       "      <th>year_mismatch</th>\n",
       "      <td>0</td>\n",
       "    </tr>\n",
       "    <tr>\n",
       "      <th>year_flag</th>\n",
       "      <td>0</td>\n",
       "    </tr>\n",
       "    <tr>\n",
       "      <th>TOTAL</th>\n",
       "      <td>37662</td>\n",
       "    </tr>\n",
       "  </tbody>\n",
       "</table>\n",
       "</div>"
      ],
      "text/plain": [
       "                                  missing_count\n",
       "first_senate_registration_number           7632\n",
       "matching_title                             7616\n",
       "status_senate                              6080\n",
       "status_cdep                                5436\n",
       "deadline                                   5280\n",
       "opinion                                    4932\n",
       "government_registration_number              346\n",
       "idp                                         285\n",
       "law_character                                24\n",
       "senate_registration_number                   17\n",
       "year_issue                                   12\n",
       "status                                        2\n",
       "cdep_registration_number                      0\n",
       "id                                            0\n",
       "title                                         0\n",
       "active                                        0\n",
       "urgent_procedure                              0\n",
       "initiative                                    0\n",
       "first_chamber                                 0\n",
       "published                                     0\n",
       "updated_at                                    0\n",
       "senate_active                                 0\n",
       "created_at                                    0\n",
       "cdep_active                                   0\n",
       "promulgare                                    0\n",
       "normalized_title                              0\n",
       "latest_procedure_date                         0\n",
       "search_vector                                 0\n",
       "procedure_year                                0\n",
       "year_mismatch                                 0\n",
       "year_flag                                     0\n",
       "TOTAL                                     37662"
      ]
     },
     "metadata": {},
     "output_type": "display_data"
    }
   ],
   "source": [
    "# Get null counts\n",
    "null_counts = df.isnull().sum().sort_values(ascending=False)\n",
    "\n",
    "# Convert to DataFrame for formatting\n",
    "null_df = null_counts.to_frame(name='missing_count')\n",
    "\n",
    "# Add total row\n",
    "total_missing = null_df['missing_count'].sum()\n",
    "null_df.loc['TOTAL'] = total_missing\n",
    "\n",
    "# Display\n",
    "display(null_df)"
   ]
  },
  {
   "cell_type": "markdown",
   "id": "6b0771e4",
   "metadata": {},
   "source": [
    "### 3. Duplicate Checks & ID Uniqueness\n",
    "\n",
    "Check for duplicates in `normalized_title` and validate uniqueness of `idp`.\n"
   ]
  },
  {
   "cell_type": "code",
   "execution_count": 5,
   "id": "76ff4548",
   "metadata": {},
   "outputs": [
    {
     "data": {
      "text/plain": [
       "normalized_title\n",
       "propunere legislativa pentru modificarea si completarea legii educatiei nationale nr.1/2011                                                 38\n",
       "propunere legislativa pentru modificarea si completarea legii nr.95/2006 privind reforma in domeniul sanatatii                              23\n",
       "proiect de lege privind abilitarea guvernului de a emite ordonante                                                                          21\n",
       "proiect de lege pentru modificarea si completarea ordonantei de urgenta a guvernului nr.195/2002 privind circulatia pe drumurile publice    16\n",
       "propunere legislativa pentru modificarea si completarea legii nr.1/2011 a educatiei nationale                                               16\n",
       "propunere legislativa pentru modificarea si completarea legii nr.227/2015 privind codul fiscal                                              15\n",
       "propunere legislativa pentru modificarea legii nr.227/2015 privind codul fiscal                                                             14\n",
       "propunere legislativa pentru completarea legii nr.227/2015 privind codul fiscal                                                             14\n",
       "propunere legislativa pentru completarea legii educatiei nationale nr.1/2011                                                                14\n",
       "proiect de lege pentru modificarea si completarea legii nr.227/2015 privind codul fiscal                                                    13\n",
       "Name: count, dtype: int64"
      ]
     },
     "execution_count": 5,
     "metadata": {},
     "output_type": "execute_result"
    }
   ],
   "source": [
    "df['normalized_title'].value_counts().head(10)"
   ]
  },
  {
   "cell_type": "code",
   "execution_count": 6,
   "id": "04c849a0",
   "metadata": {},
   "outputs": [
    {
     "name": "stdout",
     "output_type": "stream",
     "text": [
      "Unique idp: 7591\n",
      "Total rows: 7876\n"
     ]
    }
   ],
   "source": [
    "# Unique vs total count of idp\n",
    "print(\"Unique idp:\", df['idp'].nunique())\n",
    "print(\"Total rows:\", len(df))"
   ]
  },
  {
   "cell_type": "markdown",
   "id": "246c152b",
   "metadata": {},
   "source": [
    "### 5. Date Consistency: `year_issue` vs `latest_procedure_date`\n",
    "\n",
    "Ensure the `latest_procedure_date` aligns reasonably with `year_issue`."
   ]
  },
  {
   "cell_type": "code",
   "execution_count": 12,
   "id": "be7f4f34",
   "metadata": {},
   "outputs": [
    {
     "data": {
      "text/html": [
       "<div>\n",
       "<style scoped>\n",
       "    .dataframe tbody tr th:only-of-type {\n",
       "        vertical-align: middle;\n",
       "    }\n",
       "\n",
       "    .dataframe tbody tr th {\n",
       "        vertical-align: top;\n",
       "    }\n",
       "\n",
       "    .dataframe thead th {\n",
       "        text-align: right;\n",
       "    }\n",
       "</style>\n",
       "<table border=\"1\" class=\"dataframe\">\n",
       "  <thead>\n",
       "    <tr style=\"text-align: right;\">\n",
       "      <th></th>\n",
       "      <th>year_issue</th>\n",
       "      <th>procedure_year</th>\n",
       "    </tr>\n",
       "  </thead>\n",
       "  <tbody>\n",
       "    <tr>\n",
       "      <th>7096</th>\n",
       "      <td>2017.0</td>\n",
       "      <td>2025</td>\n",
       "    </tr>\n",
       "    <tr>\n",
       "      <th>76</th>\n",
       "      <td>2021.0</td>\n",
       "      <td>2022</td>\n",
       "    </tr>\n",
       "    <tr>\n",
       "      <th>1401</th>\n",
       "      <td>2023.0</td>\n",
       "      <td>2023</td>\n",
       "    </tr>\n",
       "    <tr>\n",
       "      <th>3279</th>\n",
       "      <td>2014.0</td>\n",
       "      <td>2015</td>\n",
       "    </tr>\n",
       "    <tr>\n",
       "      <th>2952</th>\n",
       "      <td>2020.0</td>\n",
       "      <td>2022</td>\n",
       "    </tr>\n",
       "  </tbody>\n",
       "</table>\n",
       "</div>"
      ],
      "text/plain": [
       "      year_issue  procedure_year\n",
       "7096      2017.0            2025\n",
       "76        2021.0            2022\n",
       "1401      2023.0            2023\n",
       "3279      2014.0            2015\n",
       "2952      2020.0            2022"
      ]
     },
     "execution_count": 12,
     "metadata": {},
     "output_type": "execute_result"
    }
   ],
   "source": [
    "df['latest_procedure_date'] = pd.to_datetime(df['latest_procedure_date'])\n",
    "df['procedure_year'] = df['latest_procedure_date'].dt.year\n",
    "\n",
    "df[['year_issue', 'procedure_year']].dropna().sample(5)"
   ]
  },
  {
   "cell_type": "markdown",
   "id": "2e4b75b7",
   "metadata": {},
   "source": [
    "## 🔎 Flagging Legislative Proposals Based on Year Differences\n",
    "\n",
    "To better understand the legislative processing time, we add a `year_flag` column:\n",
    "\n",
    "- **\"same_year\"** – if the proposal and latest procedure occurred in the same year.\n",
    "- **\"delayed\"** – if the procedure happened in a later year.\n",
    "- **\"inconsistent\"** – if procedure year is earlier than the issued year (could be data error or irregularity).\n",
    "- **\"unknown\"** – One or both of the `year_issue` or `procedure_year` values are missing, making it impossible to evaluate."
   ]
  },
  {
   "cell_type": "code",
   "execution_count": 13,
   "id": "1862bb17",
   "metadata": {},
   "outputs": [
    {
     "data": {
      "text/plain": [
       "year_flag\n",
       "delayed         4813\n",
       "same_year       3049\n",
       "unknown           12\n",
       "inconsistent       2\n",
       "Name: count, dtype: int64"
      ]
     },
     "execution_count": 13,
     "metadata": {},
     "output_type": "execute_result"
    }
   ],
   "source": [
    "def flag_year_relation(row):\n",
    "    if pd.isna(row['year_issue']) or pd.isna(row['procedure_year']):\n",
    "        return 'unknown'\n",
    "    elif row['year_issue'] == row['procedure_year']:\n",
    "        return 'same_year'\n",
    "    elif row['year_issue'] < row['procedure_year']:\n",
    "        return 'delayed'\n",
    "    else:\n",
    "        return 'inconsistent'\n",
    "\n",
    "df['year_flag'] = df.apply(flag_year_relation, axis=1)\n",
    "df['year_flag'].value_counts()"
   ]
  },
  {
   "cell_type": "code",
   "execution_count": 17,
   "id": "68389f26",
   "metadata": {},
   "outputs": [
    {
     "name": "stdout",
     "output_type": "stream",
     "text": [
      "📌 Unknown proposals:\n"
     ]
    },
    {
     "data": {
      "text/html": [
       "<div>\n",
       "<style scoped>\n",
       "    .dataframe tbody tr th:only-of-type {\n",
       "        vertical-align: middle;\n",
       "    }\n",
       "\n",
       "    .dataframe tbody tr th {\n",
       "        vertical-align: top;\n",
       "    }\n",
       "\n",
       "    .dataframe thead th {\n",
       "        text-align: right;\n",
       "    }\n",
       "</style>\n",
       "<table border=\"1\" class=\"dataframe\">\n",
       "  <thead>\n",
       "    <tr style=\"text-align: right;\">\n",
       "      <th></th>\n",
       "      <th>year_issue</th>\n",
       "      <th>procedure_year</th>\n",
       "    </tr>\n",
       "  </thead>\n",
       "  <tbody>\n",
       "    <tr>\n",
       "      <th>371</th>\n",
       "      <td>NaN</td>\n",
       "      <td>2014</td>\n",
       "    </tr>\n",
       "    <tr>\n",
       "      <th>1783</th>\n",
       "      <td>NaN</td>\n",
       "      <td>2017</td>\n",
       "    </tr>\n",
       "    <tr>\n",
       "      <th>2549</th>\n",
       "      <td>NaN</td>\n",
       "      <td>2019</td>\n",
       "    </tr>\n",
       "    <tr>\n",
       "      <th>2576</th>\n",
       "      <td>NaN</td>\n",
       "      <td>2019</td>\n",
       "    </tr>\n",
       "    <tr>\n",
       "      <th>3273</th>\n",
       "      <td>NaN</td>\n",
       "      <td>2020</td>\n",
       "    </tr>\n",
       "    <tr>\n",
       "      <th>3748</th>\n",
       "      <td>NaN</td>\n",
       "      <td>2015</td>\n",
       "    </tr>\n",
       "    <tr>\n",
       "      <th>4500</th>\n",
       "      <td>NaN</td>\n",
       "      <td>2023</td>\n",
       "    </tr>\n",
       "    <tr>\n",
       "      <th>4792</th>\n",
       "      <td>NaN</td>\n",
       "      <td>2014</td>\n",
       "    </tr>\n",
       "    <tr>\n",
       "      <th>5449</th>\n",
       "      <td>NaN</td>\n",
       "      <td>2019</td>\n",
       "    </tr>\n",
       "    <tr>\n",
       "      <th>5581</th>\n",
       "      <td>NaN</td>\n",
       "      <td>2016</td>\n",
       "    </tr>\n",
       "    <tr>\n",
       "      <th>6367</th>\n",
       "      <td>NaN</td>\n",
       "      <td>2014</td>\n",
       "    </tr>\n",
       "    <tr>\n",
       "      <th>7385</th>\n",
       "      <td>NaN</td>\n",
       "      <td>2021</td>\n",
       "    </tr>\n",
       "  </tbody>\n",
       "</table>\n",
       "</div>"
      ],
      "text/plain": [
       "      year_issue  procedure_year\n",
       "371          NaN            2014\n",
       "1783         NaN            2017\n",
       "2549         NaN            2019\n",
       "2576         NaN            2019\n",
       "3273         NaN            2020\n",
       "3748         NaN            2015\n",
       "4500         NaN            2023\n",
       "4792         NaN            2014\n",
       "5449         NaN            2019\n",
       "5581         NaN            2016\n",
       "6367         NaN            2014\n",
       "7385         NaN            2021"
      ]
     },
     "metadata": {},
     "output_type": "display_data"
    },
    {
     "name": "stdout",
     "output_type": "stream",
     "text": [
      "⚠️ Inconsistent proposals:\n"
     ]
    },
    {
     "data": {
      "text/html": [
       "<div>\n",
       "<style scoped>\n",
       "    .dataframe tbody tr th:only-of-type {\n",
       "        vertical-align: middle;\n",
       "    }\n",
       "\n",
       "    .dataframe tbody tr th {\n",
       "        vertical-align: top;\n",
       "    }\n",
       "\n",
       "    .dataframe thead th {\n",
       "        text-align: right;\n",
       "    }\n",
       "</style>\n",
       "<table border=\"1\" class=\"dataframe\">\n",
       "  <thead>\n",
       "    <tr style=\"text-align: right;\">\n",
       "      <th></th>\n",
       "      <th>year_issue</th>\n",
       "      <th>procedure_year</th>\n",
       "    </tr>\n",
       "  </thead>\n",
       "  <tbody>\n",
       "    <tr>\n",
       "      <th>638</th>\n",
       "      <td>2022.0</td>\n",
       "      <td>2021</td>\n",
       "    </tr>\n",
       "    <tr>\n",
       "      <th>3860</th>\n",
       "      <td>2020.0</td>\n",
       "      <td>2019</td>\n",
       "    </tr>\n",
       "  </tbody>\n",
       "</table>\n",
       "</div>"
      ],
      "text/plain": [
       "      year_issue  procedure_year\n",
       "638       2022.0            2021\n",
       "3860      2020.0            2019"
      ]
     },
     "metadata": {},
     "output_type": "display_data"
    }
   ],
   "source": [
    "# Filter rows with flag 'unknown' and show only relevant columns\n",
    "df_unknown = df[df['year_flag'] == 'unknown'][['year_issue', 'procedure_year']]\n",
    "\n",
    "# Filter rows with flag 'inconsistent' and show only relevant columns\n",
    "df_inconsistent = df[df['year_flag'] == 'inconsistent'][['year_issue', 'procedure_year']]\n",
    "\n",
    "# Display samples\n",
    "print(\"📌 Unknown proposals:\")\n",
    "display(df_unknown.head(15))\n",
    "\n",
    "print(\"⚠️ Inconsistent proposals:\")\n",
    "display(df_inconsistent.head())\n"
   ]
  },
  {
   "cell_type": "markdown",
   "id": "0e0f75ff",
   "metadata": {},
   "source": [
    "### 6. Boolean Flags Distribution\n",
    "\n",
    "Check the consistency and distribution of flags like `active`, `published`, `senate_active`, `cdep_active`.\n"
   ]
  },
  {
   "cell_type": "code",
   "execution_count": 9,
   "id": "a9bbb42c",
   "metadata": {},
   "outputs": [
    {
     "data": {
      "text/plain": [
       "active  published\n",
       "False   True         3354\n",
       "True    False        2502\n",
       "False   False        2020\n",
       "Name: count, dtype: int64"
      ]
     },
     "execution_count": 9,
     "metadata": {},
     "output_type": "execute_result"
    }
   ],
   "source": [
    "df[['active', 'published']].value_counts()\n"
   ]
  },
  {
   "cell_type": "code",
   "execution_count": 10,
   "id": "a3a57d08",
   "metadata": {},
   "outputs": [
    {
     "data": {
      "text/plain": [
       "senate_active  cdep_active\n",
       "False          False          5392\n",
       "               True           2235\n",
       "True           False           226\n",
       "               True             23\n",
       "Name: count, dtype: int64"
      ]
     },
     "execution_count": 10,
     "metadata": {},
     "output_type": "execute_result"
    }
   ],
   "source": [
    "df[['senate_active', 'cdep_active']].value_counts()"
   ]
  }
 ],
 "metadata": {
  "kernelspec": {
   "display_name": ".venv",
   "language": "python",
   "name": "python3"
  },
  "language_info": {
   "codemirror_mode": {
    "name": "ipython",
    "version": 3
   },
   "file_extension": ".py",
   "mimetype": "text/x-python",
   "name": "python",
   "nbconvert_exporter": "python",
   "pygments_lexer": "ipython3",
   "version": "3.11.5"
  }
 },
 "nbformat": 4,
 "nbformat_minor": 5
}
